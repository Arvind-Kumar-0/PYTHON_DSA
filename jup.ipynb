{
 "cells": [
  {
   "cell_type": "code",
   "execution_count": null,
   "metadata": {},
   "outputs": [],
   "source": [
    "\n",
    "class Node:\n",
    "    def __init__(self,data) -> None:\n",
    "        self.data = data\n",
    "        self.next_node = None\n",
    "class MyLinkedList:\n",
    "    def __init__(self) -> None:\n",
    "        self.head = None\n",
    "    \n",
    "    \n",
    "    #operations at End\n",
    "    def addAtTail(self,data):\n",
    "        new_node = Node(data)\n",
    "        if self.head is None:\n",
    "            self.head = new_node\n",
    "            return\n",
    "            \n",
    "        current = self.head\n",
    "        while current.next_node:\n",
    "            current = current.next_node\n",
    "        current.next_node = new_node\n",
    "    def remove_last_node(self):\n",
    "        if self.head is None:\n",
    "            return\n",
    "        current = self.head\n",
    "        while current.next_node.next_node:\n",
    "            current = current.next_node\n",
    "        current.next_node = None \n",
    "    \n",
    "       \n",
    "    #operations at Begining    \n",
    "    def addAtHead(self,data):\n",
    "        new_node = Node(data)\n",
    "        if self.head is None:\n",
    "            self.head = new_node\n",
    "            return\n",
    "        new_node.next_node = self.head\n",
    "        self.head = new_node\n",
    "    def del_begning(self):\n",
    "        if self.head is None:\n",
    "            return\n",
    "        self.head = self.head.next_node\n",
    "\n",
    "    #addAtIndex at index    \n",
    "    def addAtIndex(self,index,data):\n",
    "        new_node = Node(data)\n",
    "        current = self.head\n",
    "        counter = 0\n",
    "        if index == 0 :\n",
    "            self.addAtHead(data)\n",
    "            return\n",
    "        \n",
    "        while counter != index-1 and current is not None:\n",
    "            counter += 1\n",
    "            current = current.next_node\n",
    "        if current is not None:\n",
    "            new_node.next_node = current.next_node\n",
    "            current.next_node = new_node\n",
    "        else:\n",
    "            return    \n",
    "    def deleteAtIndex(self,index):\n",
    "        current = self.head\n",
    "        counter = 0\n",
    "        if index == 0:\n",
    "            self.del_begning()\n",
    "            return\n",
    "        while counter != index-1 and current.next_node is not None:\n",
    "            counter += 1\n",
    "            current = current.next_node        \n",
    "        if current is not None and current.next_node is not None:\n",
    "            current.next_node = current.next_node.next_node    \n",
    "    def get(self,index):\n",
    "        current = self.head\n",
    "        counter = 0\n",
    "        if index == 0 and current is not None:\n",
    "            return current.data\n",
    "        while counter != index-1 and current is not None:\n",
    "            counter += 1\n",
    "            current = current.next_node\n",
    "        if current is not None and current.next_node is not None:\n",
    "            return current.next_node.data\n",
    "        else:\n",
    "            return -1\n"
   ]
  },
  {
   "cell_type": "code",
   "execution_count": null,
   "metadata": {},
   "outputs": [],
   "source": [
    "\n",
    "Set ,noTrust= set() ,set()\n",
    "\n",
    "# n = [i for i in range(1,n+1)]\n",
    "for i in trust:\n",
    "    Set.add(i[0])\n",
    "    noTrust.add(i[1])\n",
    "noTrust = noTrust - Set\n",
    "noTrust = noTrust.pop()\n",
    "trusted = 0\n",
    "\n",
    "for i in range(1,n+1):\n",
    "    if i == noTrust:\n",
    "        continue\n",
    "    if [i,noTrust] in trust:\n",
    "        trusted +=1\n",
    "print(trusted)\n",
    "    "
   ]
  },
  {
   "cell_type": "code",
   "execution_count": null,
   "metadata": {},
   "outputs": [],
   "source": [
    "class Solution:\n",
    "    def findJudge(self, n: int, trust: list[list[int]]) -> int:\n",
    "        if n==1:\n",
    "            return trust[0][0]\n",
    "        if n==2 and len(trust) == 1:\n",
    "            return trust[0][1]\n",
    "        Set ,noTrust= set() ,set()\n",
    "        for i in trust:\n",
    "            Set.add(i[0])\n",
    "            noTrust.add(i[1])\n",
    "        noTrust = noTrust - Set\n",
    "        \n",
    "        if noTrust == set():\n",
    "            return -1\n",
    "        noTrust = noTrust.pop()\n",
    "        trusted = 0\n",
    "        for i in range(1,n+1):\n",
    "            if [i,noTrust] in trust:\n",
    "                trusted +=1\n",
    "        return -1 if trusted<n-1 else noTrust\n",
    "s = Solution()\n",
    "s.findJudge(3,trust=[[1,3],[2,3]])"
   ]
  },
  {
   "cell_type": "code",
   "execution_count": null,
   "metadata": {},
   "outputs": [],
   "source": [
    "lis = [0,1,8,3,4,5,6,7,2]\n",
    "li = [bin(i).count('1') for i in lis]\n",
    "sor = []\n",
    "for i in range(len(li)):\n",
    "    sor.append([li[i],lis[i]])\n",
    "\n",
    "del li,lis\n",
    "sor = sorted(sor)\n",
    "for i in range(1,len(sor)-1):\n",
    "    if sor[i][0] == sor [i-1][0]:\n",
    "        if sor[i][1] < sor[i][1]:\n",
    "            temp = sor[i]\n",
    "            sor[i] = sor[i-1]\n",
    "            sor[i-1] = temp\n",
    "            del temp\n",
    "final = [i[1] for i in sor]\n",
    "\n",
    "print(final)\n",
    "\n"
   ]
  },
  {
   "cell_type": "code",
   "execution_count": null,
   "metadata": {},
   "outputs": [],
   "source": [
    "class Solution:\n",
    "    def sortByBits(self, arr: list[int]) -> list[int]:\n",
    "        li = [bin(i).count('1') for i in arr]\n",
    "        sor = []\n",
    "        for i in range(len(li)):\n",
    "            sor.append([li[i],arr[i]])\n",
    "        del li\n",
    "        print(sor)\n",
    "        sor = sorted(sor)\n",
    "        print(sor)\n",
    "        for i in range(1,len(sor)-1):\n",
    "            if sor[i][0] == sor [i-1][0]:\n",
    "                if sor[i][1] < sor[i][1]:\n",
    "                    temp = sor[i]\n",
    "                    sor[i] = sor[i-1]\n",
    "                    sor[i-1] = temp\n",
    "                    del temp\n",
    "        return [i[1] for i in sor]\n",
    "s = Solution()\n",
    "s.sortByBits([0,1,2,3,4,5,6,7,8])"
   ]
  },
  {
   "cell_type": "code",
   "execution_count": null,
   "metadata": {},
   "outputs": [],
   "source": [
    "def f(n):return 1 if (n==1 or n==0) else n * f(n - 1)"
   ]
  },
  {
   "cell_type": "code",
   "execution_count": null,
   "metadata": {},
   "outputs": [],
   "source": [
    "pref = [5,2,0,3,1]\n",
    "arr = []\n",
    "\n",
    "for i in range(len(pref)):\n",
    "    if arr is not None and i==0:\n",
    "        arr.append(pref[i])\n",
    "    else:\n",
    "        arr.append(pref[i]^pref[i-1])\n",
    "print(arr)"
   ]
  },
  {
   "cell_type": "code",
   "execution_count": null,
   "metadata": {},
   "outputs": [],
   "source": [
    "pref = [5,2,0,3,1]\n",
    "a = [pref[i] if  i == 0 else pref[i] ^ pref[i - 1] for i in range(len(pref))]\n",
    "\n",
    "print(a)"
   ]
  },
  {
   "cell_type": "code",
   "execution_count": null,
   "metadata": {},
   "outputs": [],
   "source": [
    "digits = [9,9]\n",
    "converted = str(int(\"\".join(str(i) for i in digits))+1)\n",
    "\n",
    "[int(i) for i in converted]"
   ]
  },
  {
   "cell_type": "code",
   "execution_count": null,
   "metadata": {},
   "outputs": [],
   "source": [
    "digits = [9 for i in range(8)]\n",
    "\n",
    "if digits[-1] < 9:\n",
    "    digits[-1] +=1\n",
    "   \n",
    "for i in range(len(digits)-1,-1,-1):\n",
    "    if digits[i] == 9:\n",
    "        digits[i] = 0\n",
    "    \n",
    "[1]+digits"
   ]
  },
  {
   "cell_type": "code",
   "execution_count": null,
   "metadata": {},
   "outputs": [],
   "source": [
    "print(42*60 + 42)\n",
    "hour = 42/60 + 42/3600;\n",
    "print(10/1.61/hour , \"miles/hour\");"
   ]
  },
  {
   "cell_type": "code",
   "execution_count": null,
   "metadata": {},
   "outputs": [],
   "source": [
    "import math\n",
    "print((4/3)*math.pi*5**3)\n"
   ]
  },
  {
   "cell_type": "code",
   "execution_count": null,
   "metadata": {},
   "outputs": [],
   "source": [
    "final = 24.95 - 0.4*24.95\n",
    "cost1 = 3*final\n",
    "cost59 = 59*final*0.75\n",
    "print(cost1+cost59)"
   ]
  },
  {
   "cell_type": "code",
   "execution_count": null,
   "metadata": {},
   "outputs": [],
   "source": [
    "prefixes = 'JKLMNOPQ'\n",
    "suffix = 'ack'\n",
    "for letter in prefixes:\n",
    "    if letter == 'O' or letter == 'Q':\n",
    "        print(letter + 'u'+suffix)\n",
    "    else:\n",
    "        print(letter + suffix)"
   ]
  },
  {
   "cell_type": "code",
   "execution_count": null,
   "metadata": {},
   "outputs": [],
   "source": [
    "def find(word, letter ,index):\n",
    "    while index < len(word):\n",
    "        if word[index] == letter:\n",
    "            return index\n",
    "    index = index + 1\n",
    "    return -1\n"
   ]
  },
  {
   "cell_type": "code",
   "execution_count": null,
   "metadata": {},
   "outputs": [],
   "source": [
    "mat = [[1,2,3],[4,5,6],[7,8,9]]\n",
    "print(mat[0])\n",
    "print(mat[1])\n",
    "print(mat[2])"
   ]
  },
  {
   "cell_type": "code",
   "execution_count": null,
   "metadata": {},
   "outputs": [],
   "source": [
    "class Solution:\n",
    "    def longestConsecutive(self, nums: list[int]) -> int:\n",
    "        set_ = set(nums)\n",
    "        longest = 0\n",
    "        for item in set_:\n",
    "            if item+1 not in set_:\n",
    "                i = 0\n",
    "                while item - i in set_:\n",
    "                    i += 1\n",
    "                if i > longest:\n",
    "                    longest = i\n",
    "        return longest\n",
    "Sol = Solution()\n",
    "nums = [100,4,200,1,3,2]\n",
    "Sol.longestConsecutive(nums)"
   ]
  },
  {
   "cell_type": "code",
   "execution_count": null,
   "metadata": {},
   "outputs": [],
   "source": [
    "class Solution:\n",
    "    def myPow(self, x: float, n: int) -> float:\n",
    "        def power(x, n):\n",
    "            if n<=0:\n",
    "                return 1\n",
    "            if n%2 == 0:\n",
    "                i = power(x, n//2 ) \n",
    "                return i*i\n",
    "            else:\n",
    "                j = power(x,(n-1)//2)\n",
    "                return j * j * x\n",
    "        return power(x,n) if n>= 0 else 1/power(x,n)\n",
    "expo = Solution()\n",
    "expo.myPow(2,10)"
   ]
  },
  {
   "cell_type": "code",
   "execution_count": null,
   "metadata": {},
   "outputs": [],
   "source": [
    "def power(x, n):\n",
    "            if n<=0:\n",
    "                return 1\n",
    "            if n%2 == 0:\n",
    "                print(x,n)\n",
    "                return power(x, n//2 )\n",
    "            else:\n",
    "                print(x,n)\n",
    "                return x*power(x,(n-1)//2)\n",
    "h = power(2,10)\n",
    "print(h*h)   "
   ]
  },
  {
   "cell_type": "code",
   "execution_count": null,
   "metadata": {},
   "outputs": [],
   "source": [
    "class Solution:\n",
    "    def buildArray(self, target: list[int], n: int) -> list[str]:\n",
    "        stk = []\n",
    "        i = 1\n",
    "        for item in target:\n",
    "            while i != item:\n",
    "                stk.append('Push')\n",
    "                stk.append('Pop')\n",
    "                i += 1\n",
    "            stk.append('Push')\n",
    "            i += 1\n",
    "        return stk\n",
    "s = Solution()\n",
    "s.buildArray([3,6],6)"
   ]
  },
  {
   "cell_type": "markdown",
   "metadata": {},
   "source": [
    "Input: target = [3,6], n = 6\n",
    "Output:[\"Push\",\"Pop\",\"Push\",\"Pop\",\"Push\",\"Push\",\"Pop\",\"Push\",\"Pop\",\"Push\"]"
   ]
  },
  {
   "cell_type": "code",
   "execution_count": null,
   "metadata": {},
   "outputs": [],
   "source": [
    "def rotate(nums , k):\n",
    "    temp = [ 0 for i in range(len(nums))]\n",
    "    for i in range(len(nums)):\n",
    "        temp[i] = nums[-k+i]\n",
    "    nums[:] = temp[:]\n",
    "nums = [1,2,3,4,5,6,7]\n",
    "rotate(nums,3)\n",
    "print(nums)\n",
    "\n"
   ]
  },
  {
   "cell_type": "code",
   "execution_count": null,
   "metadata": {},
   "outputs": [],
   "source": [
    "nums = [1,2,3,4,5,6,7]\n",
    "k = 3\n",
    "print(nums[k::-1]+nums[:k:-1])"
   ]
  },
  {
   "cell_type": "code",
   "execution_count": null,
   "metadata": {},
   "outputs": [],
   "source": [
    "def binarsearch(li):\n",
    "    l , r = 0, len(li)-1\n",
    "    \n",
    "    while l < r:\n",
    "        mid = (l+r)//2\n",
    "        if "
   ]
  },
  {
   "cell_type": "code",
   "execution_count": null,
   "metadata": {},
   "outputs": [],
   "source": [
    "import heapq\n",
    "heap = []\n",
    "for i in range(100,70000):\n",
    "    heap.append(i)\n",
    "heapq.heappush(heap,10)\n",
    "print(heap[0])"
   ]
  },
  {
   "cell_type": "code",
   "execution_count": null,
   "metadata": {},
   "outputs": [],
   "source": [
    "class SeatManager:\n",
    "\n",
    "    def __init__(self, n: int):\n",
    "        self.n = n\n",
    "        self.min = 1\n",
    "        self.filled = set()\n",
    "        self.unfilled = {i for i in range(1,self.n+1)}\n",
    "    def reserve(self) -> int:\n",
    "        if self.unfilled:\n",
    "            self.min = min(self.unfilled)\n",
    "        self.filled.add(self.min)\n",
    "        self.unfilled.remove(self.min)\n",
    "        \n",
    "        return self.min        \n",
    "            \n",
    "    def unreserve(self, seatNumber: int) -> None:\n",
    "        if seatNumber in self.filled:\n",
    "            self.filled.remove(seatNumber)\n",
    "            self.unfilled.add(seatNumber)\n",
    "            \n"
   ]
  },
  {
   "cell_type": "code",
   "execution_count": null,
   "metadata": {},
   "outputs": [],
   "source": [
    "# Create a Node class to create a node\n",
    "class Node:\n",
    "\tdef __init__(self, data):\n",
    "\t\tself.data = data\n",
    "\t\tself.next = None\n",
    "\n",
    "# Create a LinkedList class\n",
    "\n",
    "\n",
    "class LinkedList:\n",
    "\tdef __init__(self):\n",
    "\t\tself.head = None\n",
    "\n",
    "\t# Method to add a node at begin of LL\n",
    "\tdef addAtIndexAtBegin(self, data):\n",
    "\t\tnew_node = Node(data)\n",
    "\t\tif self.head is None:\n",
    "\t\t\tself.head = new_node\n",
    "\t\t\treturn\n",
    "\t\telse:\n",
    "\t\t\tnew_node.next = self.head\n",
    "\t\t\tself.head = new_node\n",
    "\n",
    "\t# Method to add a node at any index\n",
    "\t# Indexing starts from 0.\n",
    "\tdef addAtIndexAtIndex(self, data, index):\n",
    "\t\tnew_node = Node(data)\n",
    "\t\tcurrent_node = self.head\n",
    "\t\tposition = 0\n",
    "\t\tif position == index:\n",
    "\t\t\tself.addAtIndexAtBegin(data)\n",
    "\t\telse:\n",
    "\t\t\twhile(current_node != None and position+1 != index):\n",
    "\t\t\t\tposition = position+1\n",
    "\t\t\t\tcurrent_node = current_node.next\n",
    "\n",
    "\t\t\tif current_node != None:\n",
    "\t\t\t\tnew_node.next = current_node.next\n",
    "\t\t\t\tcurrent_node.next = new_node\n",
    "\t\t\telse:\n",
    "\t\t\t\tprint(\"Index not present\")\n",
    "\n",
    "\t# Method to add a node at the end of LL\n",
    "\n",
    "\tdef addAtIndexAtEnd(self, data):\n",
    "\t\tnew_node = Node(data)\n",
    "\t\tif self.head is None:\n",
    "\t\t\tself.head = new_node\n",
    "\t\t\treturn\n",
    "\n",
    "\t\tcurrent_node = self.head\n",
    "\t\twhile(current_node.next):\n",
    "\t\t\tcurrent_node = current_node.next\n",
    "\n",
    "\t\tcurrent_node.next = new_node\n",
    "\n",
    "\t# Update node of a linked list\n",
    "\t\t# at given position\n",
    "\tdef updateNode(self, val, index):\n",
    "\t\tcurrent_node = self.head\n",
    "\t\tposition = 0\n",
    "\t\tif position == index:\n",
    "\t\t\tcurrent_node.data = val\n",
    "\t\telse:\n",
    "\t\t\twhile(current_node != None and position != index):\n",
    "\t\t\t\tposition = position+1\n",
    "\t\t\t\tcurrent_node = current_node.next\n",
    "\n",
    "\t\t\tif current_node != None:\n",
    "\t\t\t\tcurrent_node.data = val\n",
    "\t\t\telse:\n",
    "\t\t\t\tprint(\"Index not present\")\n",
    "\n",
    "\t# Method to remove first node of linked list\n",
    "\n",
    "\tdef remove_first_node(self):\n",
    "\t\tif(self.head == None):\n",
    "\t\t\treturn\n",
    "\n",
    "\t\tself.head = self.head.next\n",
    "\n",
    "\t# Method to remove last node of linked list\n",
    "\tdef remove_last_node(self):\n",
    "\n",
    "\t\tif self.head is None:\n",
    "\t\t\treturn\n",
    "\n",
    "\t\tcurrent_node = self.head\n",
    "\t\twhile(current_node.next.next):\n",
    "\t\t\tcurrent_node = current_node.next\n",
    "\n",
    "\t\tcurrent_node.next = None\n",
    "\n",
    "\t# Method to remove at given index\n",
    "\tdef remove_at_index(self, index):\n",
    "\t\tif self.head == None:\n",
    "\t\t\treturn\n",
    "\n",
    "\t\tcurrent_node = self.head\n",
    "\t\tposition = 0\n",
    "\t\tif position == index:\n",
    "\t\t\tself.remove_first_node()\n",
    "\t\telse:\n",
    "\t\t\twhile(current_node != None and position+1 != index):\n",
    "\t\t\t\tposition = position+1\n",
    "\t\t\t\tcurrent_node = current_node.next\n",
    "\n",
    "\t\t\tif current_node != None:\n",
    "\t\t\t\tcurrent_node.next = current_node.next.next\n",
    "\t\t\telse:\n",
    "\t\t\t\tprint(\"Index not present\")\n",
    "\n",
    "\t# Method to remove a node from linked list\n",
    "\tdef remove_node(self, data):\n",
    "\t\tcurrent_node = self.head\n",
    "\n",
    "\t\twhile(current_node != None and current_node.next.data != data):\n",
    "\t\t\tcurrent_node = current_node.next\n",
    "\n",
    "\t\tif current_node == None:\n",
    "\t\t\treturn\n",
    "\t\telse:\n",
    "\t\t\tcurrent_node.next = current_node.next.next\n",
    "\n",
    "\t# Print the size of linked list\n",
    "\tdef sizeOfLL(self):\n",
    "\t\tsize = 0\n",
    "\t\tif(self.head):\n",
    "\t\t\tcurrent_node = self.head\n",
    "\t\t\twhile(current_node):\n",
    "\t\t\t\tsize = size+1\n",
    "\t\t\t\tcurrent_node = current_node.next\n",
    "\t\t\treturn size\n",
    "\t\telse:\n",
    "\t\t\treturn 0\n",
    "\t# print method for the linked list\n",
    "\tdef printLL(self):\n",
    "\t\tcurrent_node = self.head\n",
    "\t\twhile(current_node):\n",
    "\t\t\tprint(current_node.data)\n",
    "\t\t\tcurrent_node = current_node.next\n",
    "        \n",
    "# create a new linked list\n",
    "llist = LinkedList()\n",
    "\n",
    "# add nodes to the linked list\n",
    "llist.addAtIndexAtEnd('a')\n",
    "llist.addAtIndexAtEnd('b')\n",
    "llist.addAtIndexAtBegin('c')\n",
    "llist.addAtIndexAtEnd('d')\n",
    "llist.addAtIndexAtIndex('g', 2)\n",
    "\n",
    "# print the linked list\n",
    "print(\"Node Data\")\n",
    "llist.printLL()\n",
    "\n",
    "# remove a nodes from the linked list\n",
    "print(\"\\nRemove First Node\")\n",
    "llist.remove_first_node()\n",
    "print(\"Remove Last Node\")\n",
    "llist.remove_last_node()\n",
    "print(\"Remove Node at Index 1\")\n",
    "llist.remove_at_index(1)\n",
    "\n",
    "\n",
    "# print the linked list again\n",
    "print(\"\\nLinked list after removing a node:\")\n",
    "llist.printLL()\n",
    "\n",
    "print(\"\\nUpdate node Value\")\n",
    "llist.updateNode('z', 0)\n",
    "llist.printLL()\n",
    "\n",
    "print(\"\\nSize of linked list :\", end=\" \")\n",
    "print(llist.sizeOfLL())\n"
   ]
  },
  {
   "cell_type": "code",
   "execution_count": null,
   "metadata": {},
   "outputs": [],
   "source": [
    "nums = [1,2,3,4]\n",
    "mul = 1\n",
    "final_lst = [1]\n",
    "for i in range(1, len(nums)):\n",
    "    mul *= nums[i - 1]\n",
    "    final_lst.append(mul)\n",
    "mul = 1\n",
    "for i in range(len(nums) - 1, 0, -1):\n",
    "    mul *= nums[i]\n",
    "    final_lst[i - 1] *= mul\n",
    "print(final_lst)"
   ]
  },
  {
   "cell_type": "code",
   "execution_count": 1,
   "metadata": {},
   "outputs": [
    {
     "name": "stdout",
     "output_type": "stream",
     "text": [
      "[0, 24, 0, 0]\n"
     ]
    }
   ],
   "source": [
    "nums = [2,0,3,4]\n",
    "\n",
    "stack = []\n",
    "lastans = 1\n",
    "\n",
    "for i in nums:\n",
    "    stack.append(lastans)\n",
    "    lastans *= i\n",
    "lastans = 1\n",
    "for i in range(len(nums)-1,-1,-1):\n",
    "    stack[i] *= lastans\n",
    "    lastans *= nums[i]\n",
    "\n",
    "print(stack)\n"
   ]
  },
  {
   "cell_type": "code",
   "execution_count": 40,
   "metadata": {},
   "outputs": [
    {
     "name": "stdout",
     "output_type": "stream",
     "text": [
      "[2.0, 2.0, 3.0]\n",
      "3\n"
     ]
    }
   ],
   "source": [
    "dist = [4,2,3]\n",
    "speed = [2,1,1]\n",
    "time = sorted([ dist[i]/speed[i] for i in range(len(dist))])\n",
    "kills = 0\n",
    "print(time)\n",
    "for i in range(len(time)):\n",
    "    if time[i] > i:\n",
    "        kills += 1\n",
    "    \n",
    "print(kills)\n",
    "    "
   ]
  },
  {
   "cell_type": "code",
   "execution_count": 59,
   "metadata": {},
   "outputs": [
    {
     "name": "stdout",
     "output_type": "stream",
     "text": [
      "[1, 4, 3, 2, 5]\n"
     ]
    }
   ],
   "source": [
    "stack = [1,2,3,4,5]\n",
    "left = 2\n",
    "right = 4\n",
    "rev =stack[left-1:right]\n",
    "stack = stack[:left-1] +rev[::-1] + stack[right:]\n",
    "print(stack)"
   ]
  },
  {
   "cell_type": "code",
   "execution_count": 66,
   "metadata": {},
   "outputs": [
    {
     "data": {
      "text/plain": [
       "Exception('NotFound')"
      ]
     },
     "execution_count": 66,
     "metadata": {},
     "output_type": "execute_result"
    }
   ],
   "source": [
    "def excep():\n",
    "    return Exception('NotFound')\n",
    "excep()"
   ]
  },
  {
   "cell_type": "code",
   "execution_count": 40,
   "metadata": {},
   "outputs": [
    {
     "data": {
      "text/plain": [
       "'8n4]W8a_}L'"
      ]
     },
     "execution_count": 40,
     "metadata": {},
     "output_type": "execute_result"
    }
   ],
   "source": [
    "from string import digits , ascii_letters ,punctuation\n",
    "import random\n",
    "def generate(length):\n",
    "    password = ''\n",
    "    if length == 0:\n",
    "        return password\n",
    "    num = random.choice(digits)\n",
    "    letter = random.choice(ascii_letters)\n",
    "    sym = random.choice(punctuation)\n",
    "    rand = random.choice([num,letter,sym])\n",
    "    password = rand\n",
    "    return password + generate(length-1)\n",
    "\n",
    "generate(10)\n",
    "    "
   ]
  },
  {
   "cell_type": "code",
   "execution_count": 47,
   "metadata": {},
   "outputs": [
    {
     "name": "stdout",
     "output_type": "stream",
     "text": [
      "VGKDYVGRLDT\n",
      "sdhavsdoiaq\n"
     ]
    }
   ],
   "source": [
    "class Encrypter:\n",
    "    @staticmethod\n",
    "    def encrypt(String):\n",
    "        return \"\".join([chr(ord(i)-29) for i in String])\n",
    "    @staticmethod\n",
    "    def decrypt(String):\n",
    "        return \"\".join([chr(ord(i)+29) for i in String])\n",
    "\n",
    "strin = \"sdhavsdoiaq\"\n",
    "strin = Encrypter.encrypt(strin)\n",
    "print(strin)\n",
    "print(Encrypter.decrypt(strin))"
   ]
  },
  {
   "cell_type": "code",
   "execution_count": 14,
   "metadata": {},
   "outputs": [
    {
     "ename": "ValueError",
     "evalue": "Exceeds the limit (4300) for integer string conversion; use sys.set_int_max_str_digits() to increase the limit",
     "output_type": "error",
     "traceback": [
      "\u001b[0;31m---------------------------------------------------------------------------\u001b[0m",
      "\u001b[0;31mValueError\u001b[0m                                Traceback (most recent call last)",
      "\u001b[1;32m/home/arvind/py/jup.ipynb Cell 35\u001b[0m line \u001b[0;36m8\n\u001b[1;32m      <a href='vscode-notebook-cell:/home/arvind/py/jup.ipynb#X46sZmlsZQ%3D%3D?line=5'>6</a>\u001b[0m     res \u001b[39m+\u001b[39m\u001b[39m=\u001b[39m (num\u001b[39m*\u001b[39mmul)\u001b[39m*\u001b[39m\u001b[39m2\u001b[39m\n\u001b[1;32m      <a href='vscode-notebook-cell:/home/arvind/py/jup.ipynb#X46sZmlsZQ%3D%3D?line=6'>7</a>\u001b[0m     mul \u001b[39m*\u001b[39m\u001b[39m=\u001b[39m \u001b[39m10\u001b[39m\n\u001b[0;32m----> <a href='vscode-notebook-cell:/home/arvind/py/jup.ipynb#X46sZmlsZQ%3D%3D?line=7'>8</a>\u001b[0m \u001b[39mprint\u001b[39;49m(res)\n",
      "\u001b[0;31mValueError\u001b[0m: Exceeds the limit (4300) for integer string conversion; use sys.set_int_max_str_digits() to increase the limit"
     ]
    }
   ],
   "source": [
    "s = [i for i in range(45000)]\n",
    "mul = 1\n",
    "res = 0\n",
    "while len(s) != 0:\n",
    "    num = s.pop()\n",
    "    res += (num*mul)*2\n",
    "    mul *= 10\n",
    "print(res)\n",
    "    "
   ]
  },
  {
   "cell_type": "code",
   "execution_count": null,
   "metadata": {},
   "outputs": [],
   "source": [
    "\n",
    "class ListNode:\n",
    "    def __init__(self, val=0, next=None):\n",
    "        self.val = val\n",
    "        self.next = next\n",
    "class Solution:\n",
    "    def addTwoNumbers(self, l1: ListNode, l2: ListNode) -> ListNode:\n",
    "        def tostack(l1):\n",
    "            s = []\n",
    "            current = l1\n",
    "            while current != None:\n",
    "                s.append(current.val)\n",
    "                current = current.next\n",
    "            return s\n",
    "        s1 = tostack(l1)\n",
    "        s2 = tostack(l2)\n",
    "        def cari(num1,num2 ,carry):\n",
    "            num = num1 + num2 + carry\n",
    "            if num >= 10:\n",
    "                carry = num // 10\n",
    "                num = num - 10\n",
    "                return num ,carry\n",
    "            else:\n",
    "                return num ,0\n",
    "        maxlen = max(len(s1),len(s2))\n",
    "        carry = 0\n",
    "        result = []\n",
    "        while maxlen != 0:\n",
    "            maxlen -=1\n",
    "            if len(s1) == 0:\n",
    "                i ,carry = cari(0,s2.pop(),carry)\n",
    "                result.append(i)\n",
    "            elif len(s2) == 0:\n",
    "                i,carry = cari(0,s1.pop(),carry)\n",
    "                result.append(i)\n",
    "            else:\n",
    "                i,carry = cari(s1.pop(),s2.pop(),carry)\n",
    "                result.append(i)\n",
    "        if carry > 0:\n",
    "            result.append(carry)\n",
    "        i = len(result)\n",
    "        current = None\n",
    "        head = None\n",
    "        while i != 0:\n",
    "            newNode = ListNode(result.pop())\n",
    "            i-=1\n",
    "            if current is None:\n",
    "                current = newNode\n",
    "                head = current\n",
    "            else:\n",
    "                current.next = newNode\n",
    "                current = current.next\n",
    "        return head        "
   ]
  },
  {
   "cell_type": "code",
   "execution_count": 3,
   "metadata": {},
   "outputs": [
    {
     "name": "stdout",
     "output_type": "stream",
     "text": [
      "[1, 2, 3, 21, 32, 33, 56]\n"
     ]
    }
   ],
   "source": [
    "t = [1,2,33,21,3,56,32]\n",
    "t.sort()\n",
    "print(t)"
   ]
  },
  {
   "cell_type": "code",
   "execution_count": 8,
   "metadata": {},
   "outputs": [
    {
     "data": {
      "text/plain": [
       "4"
      ]
     },
     "execution_count": 8,
     "metadata": {},
     "output_type": "execute_result"
    }
   ],
   "source": [
    "class MountainArray:\n",
    "   def get(self, index: int) -> int:\n",
    "       pass\n",
    "   def length(self) -> int:\n",
    "        pass\n",
    "def BA(nums, target):\n",
    "    l = 0\n",
    "    r = len(nums)-1\n",
    "    while l<r:\n",
    "        mid = (l+r)//2\n",
    "        midnum = nums[mid]\n",
    "        if target == midnum:\n",
    "            return mid\n",
    "        elif target > midnum:\n",
    "            l = mid +1\n",
    "        else:\n",
    "            r = mid -1\n",
    "def BD(nums,target):\n",
    "    l = 0\n",
    "    r = len(nums)-1\n",
    "    while l<r:\n",
    "        mid = (l+r)//2\n",
    "        midnum = nums[mid]\n",
    "        if target == midnum:\n",
    "            return mid\n",
    "        elif target > midnum:\n",
    "            r = mid -1\n",
    "        else:\n",
    "            l = mid +1\n",
    "            \n",
    "nums = [5,1,2,3,4]\n",
    "\n",
    "def maxelement(nums):\n",
    "    l = 0\n",
    "    r = len(nums)-1\n",
    "    while l != r:\n",
    "        mid = (l+r)//2\n",
    "        midnum = nums[mid]\n",
    "        if nums[mid-1] < midnum and nums[mid+1] > midnum:\n",
    "            l = mid+1\n",
    "        else:\n",
    "            r = mid\n",
    "    return l\n",
    "maxelement(nums)"
   ]
  },
  {
   "cell_type": "code",
   "execution_count": 10,
   "metadata": {},
   "outputs": [
    {
     "data": {
      "text/plain": [
       "1"
      ]
     },
     "execution_count": 10,
     "metadata": {},
     "output_type": "execute_result"
    }
   ],
   "source": [
    "def minelement(nums):\n",
    "            l = 0\n",
    "            r = len(nums)-1\n",
    "            while l != r:\n",
    "                mid = (l+r)//2\n",
    "                if nums[r] < nums[mid]:\n",
    "                    l = mid+1\n",
    "                else:\n",
    "                    r = mid\n",
    "            return l\n",
    "minelement([5,1,2,3,4])"
   ]
  },
  {
   "cell_type": "code",
   "execution_count": 11,
   "metadata": {},
   "outputs": [
    {
     "data": {
      "text/plain": [
       "3"
      ]
     },
     "execution_count": 11,
     "metadata": {},
     "output_type": "execute_result"
    }
   ],
   "source": [
    "def max_index(nums):\n",
    "    l = 0\n",
    "    r = len(nums) - 1\n",
    "\n",
    "    while l != r:\n",
    "        mid = (l+r)//2\n",
    "        if nums[mid+1] > nums[mid]:\n",
    "            l = mid +1\n",
    "        else:\n",
    "            r = mid\n",
    "    return l\n",
    "max_index([4,5,6,7,0,1,2])"
   ]
  },
  {
   "cell_type": "code",
   "execution_count": 12,
   "metadata": {},
   "outputs": [
    {
     "name": "stdout",
     "output_type": "stream",
     "text": [
      "True\n"
     ]
    }
   ],
   "source": [
    "class Solution:\n",
    "    def search(self, nums: list[int], target: int) -> int:\n",
    "        def max_index(nums):\n",
    "            l = 0\n",
    "            r = len(nums) - 1\n",
    "            \n",
    "            while l != r:\n",
    "                mid = (l+r)//2\n",
    "                if nums[l] > nums[mid]:\n",
    "                    r = mid\n",
    "                else:\n",
    "                    l = mid+1\n",
    "            return l\n",
    "        max_element_index = max_index(nums)\n",
    "        print(max_element_index)\n",
    "        def BS(nums ,target , l , r):\n",
    "            while l <= r:\n",
    "                mid = (l+r)//2\n",
    "                if target == nums[mid]:\n",
    "                    return mid\n",
    "                elif target > nums[mid]:\n",
    "                    l = mid +1\n",
    "                else:\n",
    "                    r = mid -1\n",
    "            return -1\n",
    "        \n",
    "        resBefore = BS(nums,target,0,max_element_index)\n",
    "        resAfter = BS(nums,target,max_element_index+1,len(nums)-1)\n",
    "        print(resBefore,resAfter)\n",
    "        if resBefore == -1:\n",
    "            return resAfter\n",
    "        else:\n",
    "            return resBefore"
   ]
  },
  {
   "cell_type": "code",
   "execution_count": 2,
   "metadata": {},
   "outputs": [
    {
     "data": {
      "text/plain": [
       "6"
      ]
     },
     "execution_count": 2,
     "metadata": {},
     "output_type": "execute_result"
    }
   ],
   "source": [
    "def canDivide(mid):\n",
    "    subarray_count = 1\n",
    "    current_sum = 0\n",
    "    \n",
    "    for i in nums:\n",
    "        current_sum += i\n",
    "        if current_sum > mid:\n",
    "            subarray_count += 1\n",
    "            current_sum = num\n",
    "    return subarray_count > mid"
   ]
  },
  {
   "cell_type": "code",
   "execution_count": 17,
   "metadata": {},
   "outputs": [
    {
     "data": {
      "text/plain": [
       "0"
      ]
     },
     "execution_count": 17,
     "metadata": {},
     "output_type": "execute_result"
    }
   ],
   "source": [
    "matrix =[[1,3,5,7],\n",
    "        [10,11,16,20],\n",
    "        [23,30,34,60]]\n",
    "target = 1\n",
    "def Bi(matrix,target):\n",
    "    l = 0\n",
    "    r = len(matrix)-1\n",
    "    \n",
    "    while l < r:\n",
    "        m = (r+l)//2\n",
    "        if matrix[m][-1] >= target >= matrix[m][0]:\n",
    "            return m\n",
    "        elif target < matrix[m][0]:\n",
    "            r = m-1\n",
    "        elif target > matrix[m][-1]:\n",
    "            l = m+1\n",
    "    return l\n",
    "Potential_Row = Bi(matrix,target)\n",
    "l = 0\n",
    "r = len(matrix[0])-1\n",
    "while l <= r :\n",
    "    mid = (l+r)//2\n",
    "    if target == matrix[Potential_Row][mid]:\n",
    "        return True\n",
    "    elif target < matrix[Potential_Row][mid]:\n",
    "        r = mid -1\n",
    "    else:\n",
    "        l = mid+1\n",
    "return False\n",
    "\n",
    "\n",
    "\n"
   ]
  },
  {
   "cell_type": "code",
   "execution_count": 47,
   "metadata": {},
   "outputs": [
    {
     "name": "stdout",
     "output_type": "stream",
     "text": [
      "0\n",
      "[1, 6, 4, 2, 3, 5, 7, 8, 9]\n",
      "0\n",
      "1\n",
      "[1, 5, 4, 2, 3, 6, 7, 8, 9]\n",
      "1\n",
      "[1, 3, 4, 2, 5, 6, 7, 8, 9]\n",
      "1\n",
      "[1, 4, 3, 2, 5, 6, 7, 8, 9]\n",
      "1\n",
      "[1, 2, 3, 4, 5, 6, 7, 8, 9]\n",
      "1\n",
      "2\n",
      "3\n",
      "4\n",
      "5\n",
      "6\n",
      "7\n",
      "8\n",
      "[1, 2, 3, 4, 5, 6, 7, 8, 9]\n"
     ]
    }
   ],
   "source": [
    "nums = [9,6,4,2,3,5,7,8,1]\n",
    "\n",
    "\n",
    "def cycle(nums):\n",
    "    i = 0\n",
    "    while i < len(nums):\n",
    "        print(i)\n",
    "        if i != nums[i]-1:\n",
    "            temp = nums[i]\n",
    "            nums[i] , nums[temp-1] = nums[temp-1] , temp\n",
    "             \n",
    "            print(nums)\n",
    "        else:\n",
    "            i += 1\n",
    "    return nums\n",
    "print(cycle(nums))"
   ]
  },
  {
   "cell_type": "code",
   "execution_count": 22,
   "metadata": {},
   "outputs": [
    {
     "name": "stdout",
     "output_type": "stream",
     "text": [
      "19950631168807583848837421626835850838234968318861924548520089498529438830221946631919961684036194597899331129423209124271556491349413781117593785932096323957855730046793794526765246551266059895520550086918193311542508608460618104685509074866089624888090489894838009253941633257850621568309473902556912388065225096643874441046759871626985453222868538161694315775629640762836880760732228535091641476183956381458969463899410840960536267821064621427333394036525565649530603142680234969400335934316651459297773279665775606172582031407994198179607378245683762280037302885487251900834464581454650557929601414833921615734588139257095379769119277800826957735674444123062018757836325502728323789270710373802866393031428133241401624195671690574061419654342324638801248856147305207431992259611796250130992860241708340807605932320161268492288496255841312844061536738951487114256315111089745514203313820202931640957596464756010405845841566072044962867016515061920631004186422275908670900574606417856951911456055068251250406007519842261898059237118054444788072906395242548339221982707404473162376760846613033778706039803413197133493654622700563169937455508241780972810983291314403571877524768509857276937926433221599399876886660808368837838027643282775172273657572744784112294389733810861607423253291974813120197604178281965697475898164531258434135959862784130128185406283476649088690521047580882615823961985770122407044330583075869039319604603404973156583208672105913300903752823415539745394397715257455290510212310947321610753474825740775273986348298498340756937955646638621874569499279016572103701364433135817214311791398222983845847334440270964182851005072927748364550578634501100852987812389473928699540834346158807043959118985815145779177143619698728131459483783202081474982171858011389071228250905826817436220577475921417653715687725614904582904992461028630081535583308130101987675856234343538955409175623400844887526162643568648833519463720377293240094456246923254350400678027273837755376406726898636241037491410966718557050759098100246789880178271925953381282421954028302759408448955014676668389697996886241636313376393903373455801407636741877711055384225739499110186468219696581651485130494222369947714763069155468217682876200362777257723781365331611196811280792669481887201298643660768551639860534602297871557517947385246369446923087894265948217008051120322365496288169035739121368338393591756418733850510970271613915439590991598154654417336311656936031122249937969999226781732358023111862644575299135758175008199839236284615249881088960232244362173771618086357015468484058622329792853875623486556440536962622018963571028812361567512543338303270029097668650568557157505516727518899194129711337690149916181315171544007728650573189557450920330185304847113818315407324053319038462084036421763703911550639789000742853672196280903477974533320468368795868580237952218629120080742819551317948157624448298518461509704888027274721574688131594750409732115080498190455803416826949787141316063210686391511681774304792596709376\n",
      "19950631168807583848837421626835850838234968318861924548520089498529438830221946631919961684036194597899331129423209124271556491349413781117593785932096323957855730046793794526765246551266059895520550086918193311542508608460618104685509074866089624888090489894838009253941633257850621568309473902556912388065225096643874441046759871626985453222868538161694315775629640762836880760732228535091641476183956381458969463899410840960536267821064621427333394036525565649530603142680234969400335934316651459297773279665775606172582031407994198179607378245683762280037302885487251900834464581454650557929601414833921615734588139257095379769119277800826957735674444123062018757836325502728323789270710373802866393031428133241401624195671690574061419654342324638801248856147305207431992259611796250130992860241708340807605932320161268492288496255841312844061536738951487114256315111089745514203313820202931640957596464756010405845841566072044962867016515061920631004186422275908670900574606417856951911456055068251250406007519842261898059237118054444788072906395242548339221982707404473162376760846613033778706039803413197133493654622700563169937455508241780972810983291314403571877524768509857276937926433221599399876886660808368837838027643282775172273657572744784112294389733810861607423253291974813120197604178281965697475898164531258434135959862784130128185406283476649088690521047580882615823961985770122407044330583075869039319604603404973156583208672105913300903752823415539745394397715257455290510212310947321610753474825740775273986348298498340756937955646638621874569499279016572103701364433135817214311791398222983845847334440270964182851005072927748364550578634501100852987812389473928699540834346158807043959118985815145779177143619698728131459483783202081474982171858011389071228250905826817436220577475921417653715687725614904582904992461028630081535583308130101987675856234343538955409175623400844887526162643568648833519463720377293240094456246923254350400678027273837755376406726898636241037491410966718557050759098100246789880178271925953381282421954028302759408448955014676668389697996886241636313376393903373455801407636741877711055384225739499110186468219696581651485130494222369947714763069155468217682876200362777257723781365331611196811280792669481887201298643660768551639860534602297871557517947385246369446923087894265948217008051120322365496288169035739121368338393591756418733850510970271613915439590991598154654417336311656936031122249937969999226781732358023111862644575299135758175008199839236284615249881088960232244362173771618086357015468484058622329792853875623486556440536962622018963571028812361567512543338303270029097668650568557157505516727518899194129711337690149916181315171544007728650573189557450920330185304847113818315407324053319038462084036421763703911550639789000742853672196280903477974533320468368795868580237952218629120080742819551317948157624448298518461509704888027274721574688131594750409732115080498190455803416826949787141316063210686391511681774304792596709376\n"
     ]
    }
   ],
   "source": [
    "def Exponent(number , power):\n",
    "    #Base Case\n",
    "    if power <= 0:\n",
    "        return 1\n",
    "    \n",
    "    #actual solution\n",
    "    if power%2 == 0:\n",
    "        i = Exponent(number , power//2)\n",
    "        return i * i\n",
    "    else:\n",
    "        j = Exponent(number,power//2)\n",
    "        return number * j * j\n",
    "    \n"
   ]
  },
  {
   "cell_type": "code",
   "execution_count": 28,
   "metadata": {},
   "outputs": [
    {
     "name": "stdout",
     "output_type": "stream",
     "text": [
      "-4\n",
      "-3\n",
      "-2\n",
      "-1\n",
      "0\n",
      "1\n",
      "2\n",
      "3\n",
      "4\n",
      "5\n"
     ]
    }
   ],
   "source": [
    "def l(num):\n",
    "    #Base Case\n",
    "    if num >5:\n",
    "        return \n",
    "    print(num)\n",
    "    return l(num+1) \n",
    "\n",
    "l(-4)\n",
    "    "
   ]
  },
  {
   "cell_type": "code",
   "execution_count": 5,
   "metadata": {},
   "outputs": [],
   "source": [
    "def rbs(arr , l , r ,target):\n",
    "    if l>r:\n",
    "        return -1\n",
    "    mid = l + (r-l)//2\n",
    "    if target == arr[mid]:\n",
    "        return mid\n",
    "    elif target > mid:\n",
    "        return rbs(arr,mid+1,r,target)\n",
    "    else:\n",
    "        return rbs(arr,l,mid-1,target) \n",
    "    \n",
    "\n"
   ]
  },
  {
   "cell_type": "code",
   "execution_count": 61,
   "metadata": {},
   "outputs": [
    {
     "name": "stdout",
     "output_type": "stream",
     "text": [
      "Even\n"
     ]
    }
   ],
   "source": [
    "def eo(x):\n",
    "    if (x & 1) == 0:\n",
    "        print(\"Even\")\n",
    "    else:\n",
    "        print(\"odd\")\n",
    "eo(2)"
   ]
  },
  {
   "cell_type": "code",
   "execution_count": 67,
   "metadata": {},
   "outputs": [
    {
     "name": "stdout",
     "output_type": "stream",
     "text": [
      "2\n"
     ]
    }
   ],
   "source": [
    "n = [1,1,2,3,4,5,5,4,3] \n",
    "v = 0\n",
    "for i in n:\n",
    "    v = i ^ v\n",
    "print(v)"
   ]
  },
  {
   "cell_type": "code",
   "execution_count": 71,
   "metadata": {},
   "outputs": [
    {
     "name": "stdout",
     "output_type": "stream",
     "text": [
      "/static/images/mainlogowhitethick.jpg\n"
     ]
    }
   ],
   "source": [
    "import bs4 as bs\n",
    "import requests\n",
    "\n",
    "rp = requests.get('https://pythonprogramming.net/parsememcparseface/')\n",
    "\n",
    "soup = bs.BeautifulSoup(rp.content,'lxml')\n",
    "print(soup.body.div.img['src'])"
   ]
  }
 ],
 "metadata": {
  "kernelspec": {
   "display_name": "Python 3 (ipykernel)",
   "language": "python",
   "name": "python3"
  },
  "language_info": {
   "codemirror_mode": {
    "name": "ipython",
    "version": 3
   },
   "file_extension": ".py",
   "mimetype": "text/x-python",
   "name": "python",
   "nbconvert_exporter": "python",
   "pygments_lexer": "ipython3",
   "version": "3.10.13"
  },
  "orig_nbformat": 4
 },
 "nbformat": 4,
 "nbformat_minor": 2
}
