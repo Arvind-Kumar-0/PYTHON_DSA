{
 "cells": [
  {
   "cell_type": "code",
   "execution_count": 8,
   "metadata": {},
   "outputs": [
    {
     "name": "stdout",
     "output_type": "stream",
     "text": [
      "3\n",
      "True\n",
      " 15\n",
      " - 10\n",
      " - - 5\n",
      " - - 12\n",
      " - 24\n"
     ]
    },
    {
     "data": {
      "text/plain": [
       "6189700196426901374495621120"
      ]
     },
     "execution_count": 8,
     "metadata": {},
     "output_type": "execute_result"
    }
   ],
   "source": [
    "\n",
    "arr = [15,10,24,5,12]\n",
    "class Node:\n",
    "    def __init__(self,val = None) -> None:\n",
    "        self.val = val\n",
    "        self.right = None\n",
    "        self.left = None\n",
    "\n",
    "\n",
    "def insert(i,root):\n",
    "    if root.val is None:\n",
    "        root.val = i\n",
    "        return\n",
    "    if i < root.val:\n",
    "        if root.left:\n",
    "            insert(i,root.left)\n",
    "        else:\n",
    "            root.left = Node(i)\n",
    "            return\n",
    "    else:\n",
    "        if root.right:\n",
    "            insert(i,root.right)\n",
    "        else:\n",
    "            root.right = Node(i)\n",
    "            return\n",
    "        \n",
    "\n",
    "def k_insert(root,val):\n",
    "    if not root:\n",
    "        return Node(val)\n",
    "    if val < root.val:\n",
    "        root.left = k_insert(root.left,val)\n",
    "    if val > root.val:\n",
    "        root.right = k_insert(root.right,val)\n",
    "    return root\n",
    "\n",
    "        \n",
    "def height(node):\n",
    "    return 1 + max(height(node.left),height(node.right)) if node else 0\n",
    "\n",
    "\n",
    "def p(root,i = 0,):\n",
    "    if not root:\n",
    "        return\n",
    "    print(\" -\"*i,root.val)\n",
    "    p(root.left,i+1)\n",
    "    p(root.right,i+1)\n",
    "\n",
    "\n",
    "def is_balance(root):\n",
    "    if not root:\n",
    "        return True\n",
    "    return abs(height(root.left) - height(root.right)) <= 1 and is_balance(root.left) and is_balance(root.right)\n",
    "\n",
    "\n",
    "root = Node() \n",
    "x = None\n",
    "for i in arr:\n",
    "    insert(i,root)\n",
    "    x = k_insert(x,i)\n",
    "print(height(root))\n",
    "print(is_balance(root))\n",
    "\n",
    "p(x)\n",
    "\n",
    "5<<100"
   ]
  },
  {
   "cell_type": "markdown",
   "metadata": {},
   "source": [
    "# AVL Trees\n",
    "\n",
    "1. Insert Normally\n",
    "2. Start from the inserted Node and find the node that makes the tree unbalanced\n",
    "3. Either Rotate Left or Right or Both depending on Configuration\n"
   ]
  }
 ],
 "metadata": {
  "kernelspec": {
   "display_name": ".venv",
   "language": "python",
   "name": "python3"
  },
  "language_info": {
   "codemirror_mode": {
    "name": "ipython",
    "version": 3
   },
   "file_extension": ".py",
   "mimetype": "text/x-python",
   "name": "python",
   "nbconvert_exporter": "python",
   "pygments_lexer": "ipython3",
   "version": "3.11.7"
  }
 },
 "nbformat": 4,
 "nbformat_minor": 2
}
